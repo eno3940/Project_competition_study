{
 "cells": [
  {
   "cell_type": "code",
   "execution_count": 52,
   "metadata": {},
   "outputs": [],
   "source": [
    "import torch\n",
    "from torch.utils.data import Dataset, DataLoader\n",
    "import torchvision.transforms as transforms\n",
    "import pandas as pd\n",
    "import numpy as np\n",
    "import os\n",
    "import cv2"
   ]
  },
  {
   "cell_type": "code",
   "execution_count": 53,
   "metadata": {},
   "outputs": [],
   "source": [
    "# GPU\n",
    "if torch.cuda.is_available():\n",
    "    device = torch.device('cuda')\n",
    "elif torch.backends.mps.is_available():\n",
    "    device = torch.device('mps')\n",
    "else:\n",
    "    device = torch.device('cpu')"
   ]
  },
  {
   "cell_type": "code",
   "execution_count": 54,
   "metadata": {},
   "outputs": [],
   "source": [
    "img_size = 224"
   ]
  },
  {
   "cell_type": "code",
   "execution_count": 55,
   "metadata": {},
   "outputs": [],
   "source": [
    "# 이미지 파일 로드.\n",
    "def load_image(path):\n",
    "    img = cv2.imread(path)\n",
    "    img = cv2.cvtColor(img, cv2.COLOR_BGR2RGB)\n",
    "    img = cv2.resize(img, (img_size, img_size))\n",
    "    return img"
   ]
  },
  {
   "cell_type": "code",
   "execution_count": 56,
   "metadata": {},
   "outputs": [],
   "source": [
    "# 데이터셋 클래스 정의.\n",
    "class XRayDataset(Dataset):\n",
    "    def __init__(self, data_dir, df, transform=None):\n",
    "        self.data_dir = data_dir\n",
    "        self.df = df\n",
    "        self.transform = transform\n",
    "        \n",
    "        # train 데이터의 이미지와 라벨 로드.\n",
    "        self.images = []\n",
    "        self.labels = []\n",
    "        \n",
    "        for i in range(len(self.df)):\n",
    "            path = os.path.join(self.data_dir, self.df.iloc[i][\"filename\"])\n",
    "            label = self.df.iloc[i][\"label\"]\n",
    "            img = load_image(path)\n",
    "            self.images.append(img)\n",
    "            self.labels.append(label)\n",
    "        \n",
    "        # 라벨 one-hot encoding으로 변환.\n",
    "        self.labels = np.array(self.labels)\n",
    "        self.labels = torch.from_numpy(self.labels).long()\n",
    "        self.labels = torch.nn.functional.one_hot(self.labels, num_classes=2).float()\n",
    "        \n",
    "    def __len__(self):\n",
    "        return len(self.images)\n",
    "\n",
    "    def __getitem__(self, idx):\n",
    "        path = os.path.join(self.data_dir, self.df.iloc[idx][\"filename\"])\n",
    "        image = load_image(path)\n",
    "        label = self.df.iloc[idx][\"label\"]\n",
    "        label = torch.tensor(label, dtype=torch.long)\n",
    "\n",
    "        if self.transform:\n",
    "            image = self.transform(image)\n",
    "\n",
    "        return image, label"
   ]
  },
  {
   "cell_type": "code",
   "execution_count": 57,
   "metadata": {},
   "outputs": [],
   "source": [
    "# train 데이터셋 처리.\n",
    "data_dir = \"/Users/inho/KDT_AI/COVID_19_XRAY/train\"\n",
    "train_csv = pd.read_csv(os.path.join(data_dir, \"/Users/inho/KDT_AI/COVID_19_XRAY/train/labels.csv\"))\n",
    "train_csv['label'] = train_csv['label'].apply(lambda x: 1 if x == 'covid' else 0)\n",
    "train_dataset = XRayDataset(data_dir, train_csv)"
   ]
  },
  {
   "cell_type": "code",
   "execution_count": 58,
   "metadata": {},
   "outputs": [],
   "source": [
    "train_transform = transforms.Compose([\n",
    "    transforms.ToTensor(),\n",
    "    transforms.Normalize(mean=[0.485, 0.456, 0.406],\n",
    "                         std=[0.229, 0.224, 0.225])\n",
    "])\n",
    "\n",
    "train_dataset = XRayDataset(data_dir, train_csv, transform=train_transform)\n",
    "train_loader = DataLoader(train_dataset, batch_size=32, shuffle=True)"
   ]
  },
  {
   "cell_type": "code",
   "execution_count": 59,
   "metadata": {},
   "outputs": [
    {
     "name": "stderr",
     "output_type": "stream",
     "text": [
      "/Users/inho/miniforge3/envs/test01/lib/python3.9/site-packages/torchvision/models/_utils.py:208: UserWarning: The parameter 'pretrained' is deprecated since 0.13 and may be removed in the future, please use 'weights' instead.\n",
      "  warnings.warn(\n",
      "/Users/inho/miniforge3/envs/test01/lib/python3.9/site-packages/torchvision/models/_utils.py:223: UserWarning: Arguments other than a weight enum or `None` for 'weights' are deprecated since 0.13 and may be removed in the future. The current behavior is equivalent to passing `weights=ResNet50_Weights.IMAGENET1K_V1`. You can also use `weights=ResNet50_Weights.DEFAULT` to get the most up-to-date weights.\n",
      "  warnings.warn(msg)\n"
     ]
    }
   ],
   "source": [
    "# 모델 정의\n",
    "import torchvision.models as models\n",
    "\n",
    "model = models.resnet50(pretrained=True)\n",
    "num_ftrs = model.fc.in_features\n",
    "model.fc = torch.nn.Linear(num_ftrs, 2)\n",
    "\n",
    "model = model.to(device)\n",
    "\n",
    "# 모델 컴파일\n",
    "criterion = torch.nn.CrossEntropyLoss()\n",
    "optimizer = torch.optim.Adam(model.parameters(), lr=0.0001)"
   ]
  },
  {
   "cell_type": "code",
   "execution_count": 60,
   "metadata": {},
   "outputs": [
    {
     "name": "stdout",
     "output_type": "stream",
     "text": [
      "Epoch [1/10], Train Loss: 0.1695, Train Acc: 0.9290\n",
      "Epoch [2/10], Train Loss: 0.0405, Train Acc: 0.9855\n",
      "Epoch [3/10], Train Loss: 0.0387, Train Acc: 0.9880\n",
      "Epoch [4/10], Train Loss: 0.0155, Train Acc: 0.9940\n",
      "Epoch [5/10], Train Loss: 0.0165, Train Acc: 0.9945\n",
      "Epoch [6/10], Train Loss: 0.0106, Train Acc: 0.9975\n",
      "Epoch [7/10], Train Loss: 0.0017, Train Acc: 0.9995\n",
      "Epoch [8/10], Train Loss: 0.0007, Train Acc: 1.0000\n",
      "Epoch [9/10], Train Loss: 0.0004, Train Acc: 1.0000\n",
      "Epoch [10/10], Train Loss: 0.0010, Train Acc: 1.0000\n"
     ]
    }
   ],
   "source": [
    "# 모델 학습\n",
    "num_epochs = 10\n",
    "for epoch in range(num_epochs):\n",
    "    train_loss = 0.0\n",
    "    train_acc = 0.0\n",
    "    train_total = 0\n",
    "    \n",
    "    for images, labels in train_loader:\n",
    "        images = images.to(device)\n",
    "        labels = labels.to(device)\n",
    "        \n",
    "        optimizer.zero_grad()\n",
    "        \n",
    "        outputs = model(images)\n",
    "        loss = criterion(outputs, labels)\n",
    "        loss.backward()\n",
    "        optimizer.step()\n",
    "        \n",
    "        _, predicted = torch.max(outputs.data, 1)\n",
    "        train_total += labels.size(0)\n",
    "        train_acc += (predicted == labels).sum().item()\n",
    "        train_loss += loss.item() * images.size(0)\n",
    "        \n",
    "    train_loss /= train_total\n",
    "    train_acc /= train_total\n",
    "    \n",
    "    print(\"Epoch [{}/{}], Train Loss: {:.4f}, Train Acc: {:.4f}\".format(epoch+1, num_epochs, train_loss, train_acc))"
   ]
  },
  {
   "cell_type": "code",
   "execution_count": 61,
   "metadata": {},
   "outputs": [],
   "source": [
    "# 테스트 데이터셋 처리\n",
    "test_dir = \"/Users/inho/KDT_AI/COVID_19_XRAY/test\"\n",
    "test_images = sorted(os.listdir(test_dir))\n",
    "test_transform = transforms.Compose([\n",
    "    transforms.ToTensor(),\n",
    "    transforms.Normalize(mean=[0.485, 0.456, 0.406],\n",
    "                         std=[0.229, 0.224, 0.225])\n",
    "])\n",
    "\n",
    "class XRayTestDataset(Dataset):\n",
    "    def __init__(self, images, transform=None):\n",
    "        self.images = images\n",
    "        self.transform = transform\n",
    "    \n",
    "    def __len__(self):\n",
    "        return len(self.images)\n",
    "\n",
    "    def __getitem__(self, idx):\n",
    "        path = os.path.join(test_dir, self.images[idx])\n",
    "        image = load_image(path)\n",
    "\n",
    "        if self.transform:\n",
    "            image = self.transform(image)\n",
    "\n",
    "        return image\n",
    "\n",
    "test_dataset = XRayTestDataset(test_images, transform=test_transform)\n",
    "test_loader = DataLoader(test_dataset, batch_size=32, shuffle=False)"
   ]
  },
  {
   "cell_type": "code",
   "execution_count": 62,
   "metadata": {},
   "outputs": [],
   "source": [
    "# 테스트 데이터셋 예측\n",
    "model.eval()\n",
    "result = []\n",
    "\n",
    "with torch.no_grad():\n",
    "    for images in test_loader:\n",
    "        images = images.to(device)\n",
    "\n",
    "        outputs = model(images)\n",
    "        _, predicted = torch.max(outputs.data, 1)\n",
    "        result.extend(predicted.cpu().numpy())"
   ]
  },
  {
   "cell_type": "code",
   "execution_count": 63,
   "metadata": {},
   "outputs": [],
   "source": [
    "# submission.csv 파일 생성하기.\n",
    "df = pd.DataFrame({'filename': [f'image_{i:03d}.png' for i in range(1,len(result)+1)], 'label': result})\n",
    "df['label'] = df['label'].apply(lambda x: 'covid' if x == 1 else 'normal')\n",
    "df.to_csv('submission.csv', index=False)"
   ]
  }
 ],
 "metadata": {
  "kernelspec": {
   "display_name": "Python 3 (ipykernel)",
   "language": "python",
   "name": "python3"
  },
  "language_info": {
   "codemirror_mode": {
    "name": "ipython",
    "version": 3
   },
   "file_extension": ".py",
   "mimetype": "text/x-python",
   "name": "python",
   "nbconvert_exporter": "python",
   "pygments_lexer": "ipython3",
   "version": "3.9.13 | packaged by conda-forge | (main, May 27 2022, 17:00:33) \n[Clang 13.0.1 ]"
  },
  "vscode": {
   "interpreter": {
    "hash": "4f7c2185bb365dcd588315b0847aad4bd6ab324800dd702a1689ac6f4f2b0594"
   }
  }
 },
 "nbformat": 4,
 "nbformat_minor": 2
}
